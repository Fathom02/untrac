{
 "cells": [
  {
   "cell_type": "markdown",
   "id": "f323661f",
   "metadata": {},
   "source": [
    "Train T5-small model on the synthetic dataset A:"
   ]
  },
  {
   "cell_type": "code",
   "execution_count": null,
   "id": "a2be8b8e",
   "metadata": {},
   "outputs": [],
   "source": [
    "!bash train_synthetic.sh"
   ]
  },
  {
   "cell_type": "markdown",
   "id": "387bd71a",
   "metadata": {},
   "source": [
    "Run Untrac\n",
    "Unlearn each training dataset from the trained model and evaluate the unlearned model on the test dataset:"
   ]
  },
  {
   "cell_type": "code",
   "execution_count": null,
   "id": "239f867c",
   "metadata": {},
   "outputs": [],
   "source": [
    "!bash untrac_synthetic.sh"
   ]
  },
  {
   "cell_type": "markdown",
   "id": "916e4757",
   "metadata": {},
   "source": [
    "Run Untrac-Inv\n",
    "Unlearn the test dataset from the trained model and evaluate the unlearned model on each training dataset:"
   ]
  },
  {
   "cell_type": "code",
   "execution_count": null,
   "id": "fd9c41a7",
   "metadata": {},
   "outputs": [],
   "source": [
    "!bash untrac-inv_synthetic.sh"
   ]
  },
  {
   "cell_type": "markdown",
   "id": "28f649c3",
   "metadata": {},
   "source": [
    "reproduce leave-dataset-out:"
   ]
  },
  {
   "cell_type": "code",
   "execution_count": null,
   "id": "4917eb10",
   "metadata": {},
   "outputs": [],
   "source": [
    "!bash loo_synthetic.sh"
   ]
  },
  {
   "cell_type": "markdown",
   "id": "7f5384a4",
   "metadata": {},
   "source": [
    "Refer to evaluate_synthetic.ipynb to assess UnTrac and UnTrac-Inv."
   ]
  }
 ],
 "metadata": {
  "kernelspec": {
   "display_name": "Python 3 (ipykernel)",
   "language": "python",
   "name": "python3"
  },
  "language_info": {
   "codemirror_mode": {
    "name": "ipython",
    "version": 3
   },
   "file_extension": ".py",
   "mimetype": "text/x-python",
   "name": "python",
   "nbconvert_exporter": "python",
   "pygments_lexer": "ipython3",
   "version": "3.10.12"
  }
 },
 "nbformat": 4,
 "nbformat_minor": 5
}
